{
 "cells": [
  {
   "cell_type": "markdown",
   "id": "ea652368",
   "metadata": {},
   "source": [
    "## CSV to Zarr"
   ]
  },
  {
   "cell_type": "markdown",
   "id": "b4b82a55",
   "metadata": {},
   "source": [
    "#### Import libraries"
   ]
  },
  {
   "cell_type": "code",
   "execution_count": 2,
   "id": "45ca7bdd",
   "metadata": {},
   "outputs": [],
   "source": [
    "import os\n",
    "import fsspec\n",
    "import numpy as np\n",
    "import pandas as pd\n",
    "import time"
   ]
  },
  {
   "cell_type": "markdown",
   "id": "1e97bc7d",
   "metadata": {},
   "source": [
    "#### Generate numpy array"
   ]
  },
  {
   "cell_type": "code",
   "execution_count": 9,
   "id": "1a53ad5b",
   "metadata": {},
   "outputs": [
    {
     "name": "stdout",
     "output_type": "stream",
     "text": [
      "---------- Total: 4.71 seconds ----------\n"
     ]
    }
   ],
   "source": [
    "fs = fsspec.filesystem('s3', anon=True)\n",
    "all_files = fs.glob(f's3://imos-data-pixeldrill/viet-test/csv/*.csv')\n",
    "\n",
    "start_time = time.time()\n",
    "nps = []\n",
    "headers = []\n",
    "for i, file in enumerate(all_files):\n",
    "    s3_fn = 's3://' + file\n",
    "    with fs.open(s3_fn, \"rb\") as f:\n",
    "        df_metadata = pd.read_csv(f, nrows=1)\n",
    "    with fs.open(s3_fn, \"rb\") as f:\n",
    "        df_data = pd.read_csv(f, skiprows=[0,1])\n",
    "\n",
    "    df = pd.concat([df_metadata, df_data], axis=0, ignore_index=True)\n",
    "    df.ffill(axis=0, inplace=True)\n",
    "    headers = df.columns #same columns across the iterations\n",
    "    np_array = df.to_numpy()\n",
    "    nps.append(np_array)\n",
    "    \n",
    "print(\"---------- Total: %.2f seconds ----------\" % (time.time() - start_time))"
   ]
  },
  {
   "cell_type": "code",
   "execution_count": 5,
   "id": "b9a7c7be",
   "metadata": {},
   "outputs": [],
   "source": [
    "# # check if columns across the CSV files are identical\n",
    "# all(x==all_cols[0] for x in all_cols)"
   ]
  },
  {
   "cell_type": "code",
   "execution_count": null,
   "id": "8be49dc4",
   "metadata": {},
   "outputs": [],
   "source": []
  }
 ],
 "metadata": {
  "kernelspec": {
   "display_name": "conda_mxnet_latest_p37",
   "language": "python",
   "name": "conda_mxnet_latest_p37"
  },
  "language_info": {
   "codemirror_mode": {
    "name": "ipython",
    "version": 3
   },
   "file_extension": ".py",
   "mimetype": "text/x-python",
   "name": "python",
   "nbconvert_exporter": "python",
   "pygments_lexer": "ipython3",
   "version": "3.7.10"
  }
 },
 "nbformat": 4,
 "nbformat_minor": 5
}
