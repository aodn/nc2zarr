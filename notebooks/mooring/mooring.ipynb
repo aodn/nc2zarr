{
 "cells": [
  {
   "cell_type": "markdown",
   "id": "74f11451-a23f-4b35-94e0-c9f67df8c5e7",
   "metadata": {
    "pycharm": {
     "name": "#%% md\n"
    }
   },
   "source": [
    "## Mooring"
   ]
  },
  {
   "cell_type": "markdown",
   "id": "a26ffe79-47c4-4c3b-ad8c-b4846e5d71ea",
   "metadata": {
    "pycharm": {
     "name": "#%% md\n"
    }
   },
   "source": [
    "#### AETVZ mooring - TIME dimension"
   ]
  },
  {
   "cell_type": "code",
   "execution_count": 2,
   "id": "06b42c32-b17b-4919-895d-9a4bd45bed98",
   "metadata": {
    "pycharm": {
     "name": "#%%\n"
    }
   },
   "outputs": [
    {
     "name": "stdout",
     "output_type": "stream",
     "text": [
      "Name: xarray\r\n",
      "Version: 0.20.0\r\n",
      "Summary: N-D labeled arrays and datasets in Python\r\n",
      "Home-page: https://github.com/pydata/xarray\r\n",
      "Author: xarray Developers\r\n",
      "Author-email: xarray@googlegroups.com\r\n",
      "License: Apache\r\n",
      "Location: /home/vietnguyen/Repositories/nc2zarr/venv/lib/python3.10/site-packages\r\n",
      "Requires: numpy, pandas\r\n",
      "Required-by: \r\n"
     ]
    }
   ],
   "source": [
    "! pip show xarray"
   ]
  },
  {
   "cell_type": "markdown",
   "id": "f3fbeac9-cb0a-488f-bb81-d41bd7b02646",
   "metadata": {
    "pycharm": {
     "name": "#%% md\n"
    }
   },
   "source": [
    "#### AETVZ mooring - TIMESERIES dimension"
   ]
  },
  {
   "cell_type": "code",
   "execution_count": null,
   "id": "728ee3fe-4daa-4728-8a28-0c2b8b4f69b0",
   "metadata": {
    "pycharm": {
     "name": "#%%\n"
    }
   },
   "outputs": [],
   "source": []
  }
 ],
 "metadata": {
  "kernelspec": {
   "display_name": "Python 3 (ipykernel)",
   "language": "python",
   "name": "python3"
  },
  "language_info": {
   "codemirror_mode": {
    "name": "ipython",
    "version": 3
   },
   "file_extension": ".py",
   "mimetype": "text/x-python",
   "name": "python",
   "nbconvert_exporter": "python",
   "pygments_lexer": "ipython3",
   "version": "3.10.4"
  }
 },
 "nbformat": 4,
 "nbformat_minor": 5
}