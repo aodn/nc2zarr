{
 "cells": [
  {
   "cell_type": "markdown",
   "id": "ad92bb12-8af8-405c-9cc5-0f603cd8cec5",
   "metadata": {
    "pycharm": {
     "name": ""
    }
   },
   "source": [
    "### Test"
   ]
  },
  {
   "cell_type": "code",
   "execution_count": 1,
   "id": "f859b066-d267-45fc-8581-3c0d9be2bea6",
   "metadata": {},
   "outputs": [],
   "source": [
    "import os"
   ]
  },
  {
   "cell_type": "code",
   "execution_count": 4,
   "id": "8a819ccb-e2e7-40f7-a696-e0adb56059da",
   "metadata": {},
   "outputs": [
    {
     "data": {
      "text/plain": [
       "<module 'os' from '/home/vietnguyen/anaconda3/lib/python3.9/os.py'>"
      ]
     },
     "execution_count": 4,
     "metadata": {},
     "output_type": "execute_result"
    }
   ],
   "source": [
    "os"
   ]
  },
  {
   "cell_type": "code",
   "execution_count": null,
   "id": "a2e97a7e-1475-4b71-b8bf-9e5328ac49f4",
   "metadata": {},
   "outputs": [],
   "source": []
  }
 ],
 "metadata": {
  "kernelspec": {
   "display_name": "Python 3 (ipykernel)",
   "language": "python",
   "name": "python3"
  },
  "language_info": {
   "codemirror_mode": {
    "name": "ipython",
    "version": 3
   },
   "file_extension": ".py",
   "mimetype": "text/x-python",
   "name": "python",
   "nbconvert_exporter": "python",
   "pygments_lexer": "ipython3",
   "version": "3.9.12"
  }
 },
 "nbformat": 4,
 "nbformat_minor": 5
}
